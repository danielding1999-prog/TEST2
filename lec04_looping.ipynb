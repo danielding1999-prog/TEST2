{
 "cells": [
  {
   "cell_type": "markdown",
   "metadata": {},
   "source": [
    "In this notebook, we will be examining the third control structure - Looping/Iteration/Repetition\n",
    "\n",
    "---\n",
    "\n",
    "\n",
    "# Looping/Iteration/Repetition\n",
    "\n",
    "This provides a way to repeat a statement of block of statements zero or more time. Thus\n",
    "- are you now able to write program that might have be logistically inpossibe to write before such as adding the numbers up to 1_000_000\n",
    "- execute a code block an indeterminate number of times\n",
    "\n",
    "Contents:   \n",
    "There are two kinds of loops:  \n",
    "1.  [while](#while)\n",
    "1.  for\n",
    "    -   [Using the range object](#range_object)\n",
    "    -   [Using an enumerable](#enumerable)\n",
    "    -   [Using the enumerate function](#enumerate_function)\n",
    "1.  [Alignment](#alignment)\n",
    "1.  [Using the continue and break keyword](#continue_break)\n",
    "1.  [Nested Loop](#nested_loop)\n",
    "1.  [Summary](#summary)\n",
    "\n"
   ]
  },
  {
   "cell_type": "markdown",
   "metadata": {},
   "source": [
    "## <a id=\"while\"></a>while\n",
    "\n",
    "It is easier to create indeterminate loops with this loop. i.e. a loop that is not constrained by a range object, an iterable or an enumeration.    \n",
    "You have to use the `break` statement to terminate such loops.      \n",
    "\n",
    "Just like how you have have indentation to indicate semantic blocks, the same is true for loop bodies.   \n",
    "\n",
    "**Unlike C#, python does not have do-while loops**  \n",
    "\n",
    "Syntax for while statement\n",
    "```python\n",
    "while «loop_condition»:\n",
    "    statements\n",
    "    «updater statement»\n",
    "```  \n",
    "If the update statement is missing, then it will be an infinite loop (non terminating loop)"
   ]
  },
  {
   "cell_type": "code",
   "execution_count": 1,
   "metadata": {},
   "outputs": [
    {
     "name": "stdout",
     "output_type": "stream",
     "text": [
      "counter: 0\n",
      "counter: 1\n",
      "counter: 2\n",
      "counter: 3\n",
      "counter: 4\n",
      "counter: 5\n",
      "counter: 6\n",
      "counter: 7\n",
      "counter: 8\n",
      "counter: 9\n"
     ]
    }
   ],
   "source": [
    "#while loop\n",
    "counter = 0\n",
    "end = 10\n",
    "while counter < end:                #loop condition\n",
    "    print(f'counter: {counter}')\n",
    "    counter += 1                    #updater statement"
   ]
  },
  {
   "cell_type": "code",
   "execution_count": null,
   "metadata": {},
   "outputs": [],
   "source": [
    "# the last statement in the following code snippet is not part of the loop\n",
    "\n",
    "counter = 8\n",
    "end = 10\n",
    "while counter < end:                \n",
    "    print(f'counter: {counter}')\n",
    "    counter += 1                    \n",
    "print('This statement is not part of the while loop')\n",
    "\n",
    "# change the value of counter to 11\n",
    "# and run the code again"
   ]
  },
  {
   "cell_type": "code",
   "execution_count": null,
   "metadata": {},
   "outputs": [],
   "source": [
    "#while example\n",
    "# updater counts down\n",
    "start = 5\n",
    "stop = 0\n",
    "while start > stop:\n",
    "    print(f'{start}', end=' ')\n",
    "    start -= 1"
   ]
  },
  {
   "cell_type": "code",
   "execution_count": null,
   "metadata": {},
   "outputs": [],
   "source": [
    "end = 3\n",
    "sum = 0\n",
    "counter = 0\n",
    "while counter < end:\n",
    "    sum += int(input('Enter a number: '))\n",
    "    counter += 1\n",
    "\n",
    "print(f'The sum of the {end} numbers is {sum}')\n"
   ]
  },
  {
   "cell_type": "code",
   "execution_count": null,
   "metadata": {},
   "outputs": [],
   "source": [
    "# this program does not use a counter to terminate the loop\n",
    "# it uses a condition based on the sum of the inputs\n",
    "target = 20\n",
    "sum = 0\n",
    "counter = 0\n",
    "while sum < target:\n",
    "    sum += int(input('Enter a number: '))\n",
    "    counter += 1\n",
    "\n",
    "print(f'It took {counter} number of additions to reach The sum of {sum}')"
   ]
  },
  {
   "cell_type": "code",
   "execution_count": null,
   "metadata": {},
   "outputs": [],
   "source": [
    "#while example using the and keyword\n",
    "start = 1\n",
    "stop = 100\n",
    "sum = 0\n",
    "while start < stop:\n",
    "    if start % 5 == 0 and start % 2 != 0:       #combining two conditions with the and keyword\n",
    "        sum += start\n",
    "    start += 1\n",
    "\n",
    "print(f'The sum of the non-even multiples of 5 less than 100 to {sum}')"
   ]
  },
  {
   "cell_type": "code",
   "execution_count": null,
   "metadata": {},
   "outputs": [],
   "source": [
    "#while example (3)\n",
    "start = 1_000_000\n",
    "stop = 2_000_000\n",
    "sum = 0\n",
    "while start < stop:\n",
    "    if start % 3 == 0:\n",
    "        sum += start\n",
    "    start += 1\n",
    "\n",
    "print(f'The sum of the multiples of 3 from 1,000,000 to {stop:,.0f} is {sum:,.0f}')\n",
    "# why can't you use the variable start in the print statement?"
   ]
  },
  {
   "cell_type": "code",
   "execution_count": null,
   "metadata": {},
   "outputs": [],
   "source": []
  },
  {
   "cell_type": "markdown",
   "metadata": {},
   "source": [
    "## for loop\n",
    "This works really well with the range() function\n",
    "### <a id=\"range_object\"></a>Using the range object\n",
    "range([start = 0], end, [step])\n",
    "\n",
    "Syntax for the for statement\n",
    "```python\n",
    "for iterator_variable in range_object:\n",
    "    «Body of loop»\n",
    "```"
   ]
  },
  {
   "cell_type": "code",
   "execution_count": 1,
   "metadata": {},
   "outputs": [
    {
     "name": "stdout",
     "output_type": "stream",
     "text": [
      "Hello world\n",
      "Hello world\n",
      "Hello world\n",
      "Hello world\n"
     ]
    }
   ],
   "source": [
    "#for example\n",
    "for _ in range(4):     #the underscore is used to quiet the linter\n",
    "    print('Hello world')\n"
   ]
  },
  {
   "cell_type": "code",
   "execution_count": 2,
   "metadata": {},
   "outputs": [
    {
     "name": "stdout",
     "output_type": "stream",
     "text": [
      "x: 0\n",
      "x: 1\n",
      "x: 2\n",
      "x: 3\n",
      "x: 4\n",
      "x: 5\n",
      "x: 6\n",
      "x: 7\n",
      "x: 8\n",
      "x: 9\n"
     ]
    }
   ],
   "source": [
    "#for example\n",
    "for x in range(10):     #the value for the range function represent the end value\n",
    "    print(f'x: {x}')"
   ]
  },
  {
   "cell_type": "code",
   "execution_count": 3,
   "metadata": {},
   "outputs": [
    {
     "name": "stdout",
     "output_type": "stream",
     "text": [
      "x: 10\n",
      "x: 11\n"
     ]
    }
   ],
   "source": [
    "#for example (2)\n",
    "for x in range(10, 12):     #the two values represent the start and end\n",
    "    print(f'x: {x}')"
   ]
  },
  {
   "cell_type": "code",
   "execution_count": 4,
   "metadata": {},
   "outputs": [
    {
     "name": "stdout",
     "output_type": "stream",
     "text": [
      "x: 10\n",
      "x: 15\n",
      "x: 20\n",
      "x: 25\n"
     ]
    }
   ],
   "source": [
    "#for example (3)\n",
    "for x in range(10, 30, 5):     #the three values represent the start, the end and the step\n",
    "    print(f'x: {x}')"
   ]
  },
  {
   "cell_type": "code",
   "execution_count": 5,
   "metadata": {},
   "outputs": [
    {
     "name": "stdout",
     "output_type": "stream",
     "text": [
      "x: 30\n",
      "x: 27\n",
      "x: 24\n",
      "x: 21\n",
      "x: 18\n",
      "x: 15\n",
      "x: 12\n"
     ]
    }
   ],
   "source": [
    "#for example (3)\n",
    "for x in range(30, 10, -3):     #a sequence that decreases\n",
    "    print(f'x: {x}')"
   ]
  },
  {
   "cell_type": "code",
   "execution_count": 6,
   "metadata": {},
   "outputs": [
    {
     "name": "stdout",
     "output_type": "stream",
     "text": [
      "x: 0\n",
      "x: -6\n",
      "x: -12\n",
      "x: -18\n"
     ]
    }
   ],
   "source": [
    "#for example (3)\n",
    "for x in range(0, -20, -6):     #the three values represent the start, the end and the step\n",
    "    print(f'x: {x}')"
   ]
  },
  {
   "cell_type": "markdown",
   "metadata": {},
   "source": [
    "### <a id=\"enumerable\"></a>Using an enumeration object  \n",
    "Syntax for enumeration statement\n",
    "this works well with iterables like lists, string, tuples etc.\n",
    "\n",
    "```python\n",
    "for «iterator variable» in «iterables»:\n",
    "    «Body of loop»\n",
    "```"
   ]
  },
  {
   "cell_type": "code",
   "execution_count": 1,
   "metadata": {},
   "outputs": [
    {
     "name": "stdout",
     "output_type": "stream",
     "text": [
      "2, 3, 5, 7, 11, 13, 17, 19, 23, 29, "
     ]
    }
   ],
   "source": [
    "a = [2, 3, 5, 7, 11, 13, 17, 19, 23, 29]\n",
    "#for example (4)\n",
    "for x in a:\n",
    "    print(f'{x}', end=', ')  #end='' prevents the print function from adding a new line"
   ]
  },
  {
   "cell_type": "code",
   "execution_count": null,
   "metadata": {},
   "outputs": [
    {
     "name": "stdout",
     "output_type": "stream",
     "text": [
      "A1 A2 A3 A4 A5 \n",
      "B1 B2 B3 B4 B5 \n",
      "C1 C2 C3 C4 C5 \n"
     ]
    }
   ],
   "source": [
    "#nested for loop\n",
    "for let in 'ABC':\n",
    "    for num in [1, 2, 3, 4, 5]:\n",
    "        print(f'{let}{num}', end=' ')\n",
    "    print()\n"
   ]
  },
  {
   "cell_type": "markdown",
   "metadata": {},
   "source": [
    "### <a id=\"enumerate_function\"></a>Using the enumerate function\n",
    "for syntax with enumerate() (get index and value)\n",
    "\n",
    "```python\n",
    "for «index», «value» in enumerate«enumerable»:\n",
    "    «Body of loop»\n",
    "```\n",
    "\n",
    "The enumerate() function works with any iterables such as list, string, tuple or dictionary"
   ]
  },
  {
   "cell_type": "code",
   "execution_count": 9,
   "metadata": {},
   "outputs": [
    {
     "name": "stdout",
     "output_type": "stream",
     "text": [
      "0: 2\n",
      "1: 3\n",
      "2: 5\n",
      "3: 7\n",
      "4: 11\n",
      "5: 13\n",
      "6: 17\n",
      "7: 19\n",
      "8: 23\n",
      "9: 29\n"
     ]
    }
   ],
   "source": [
    "a = [2, 3, 5, 7, 11, 13, 17, 19, 23, 29]\n",
    "#for example (4)\n",
    "for index, value in enumerate(a):\n",
    "    print(f'{index}: {value}')  "
   ]
  },
  {
   "cell_type": "code",
   "execution_count": 10,
   "metadata": {},
   "outputs": [
    {
     "name": "stdout",
     "output_type": "stream",
     "text": [
      "one: 1\n",
      "two: 2\n",
      "three: 3\n",
      "four: 4\n",
      "five: 5\n"
     ]
    }
   ],
   "source": [
    "b = {'one': 1, 'two': 2, 'three': 3, 'four': 4, 'five': 5}\n",
    "#for example (5)\n",
    "for key, value in b.items():\n",
    "    print(f'{key}: {value}')"
   ]
  },
  {
   "cell_type": "markdown",
   "metadata": {},
   "source": [
    "### <a id=\"alignment\"></a>Alignment when printing tables\n",
    "When printing tabular data, it looks professional if the columns are aligned.    \n",
    "-   right alignment   \n",
    "`>` right aligns the current content to the specified column \n",
    "-   left alignment   \n",
    "`<` left aligns the current content to the specified column \n",
    "-   center alignment   \n",
    "`^` aligns the current to the specified column "
   ]
  },
  {
   "cell_type": "code",
   "execution_count": 11,
   "metadata": {},
   "outputs": [
    {
     "name": "stdout",
     "output_type": "stream",
     "text": [
      " 1    1     1       1\n",
      " 2    4     8      16\n",
      " 3    9    27      81\n",
      " 4   16    64     256\n",
      " 5   25   125     625\n",
      " 6   36   216    1296\n",
      " 7   49   343    2401\n",
      " 8   64   512    4096\n",
      " 9   81   729    6561\n",
      "10  100  1000   10000\n"
     ]
    }
   ],
   "source": [
    "#alignment/formatting\n",
    "\n",
    "for x in range(1, 11):     \n",
    "    print(f'{x:>2}{x**2:>5}{x**3:>6}{x**4:>8}')     #> right aligns < left aligns"
   ]
  },
  {
   "cell_type": "code",
   "execution_count": 12,
   "metadata": {},
   "outputs": [
    {
     "name": "stdout",
     "output_type": "stream",
     "text": [
      "      x        x^2       x^3       x^4\n",
      "  ======================================\n",
      "  0.025000  0.000625  0.000016  0.000000\n",
      "  0.050000  0.002500  0.000125  0.000006\n",
      "  0.075000  0.005625  0.000422  0.000032\n",
      "  0.100000  0.010000  0.001000  0.000100\n",
      "  0.125000  0.015625  0.001953  0.000244\n",
      "  0.150000  0.022500  0.003375  0.000506\n",
      "  0.175000  0.030625  0.005359  0.000938\n",
      "  0.200000  0.040000  0.008000  0.001600\n",
      "  0.225000  0.050625  0.011391  0.002563\n",
      "  0.250000  0.062500  0.015625  0.003906\n"
     ]
    }
   ],
   "source": [
    "#more formatting\n",
    "# using width and precision as variables\n",
    "\n",
    "header = '      x        x^2       x^3       x^4'\n",
    "print(header)\n",
    "print(f'  {'=' * len(header)}')                                       #len() function give the number of letters in the header\n",
    "width = 10\n",
    "precision = 6\n",
    "for raw in range(1, 11):\n",
    "    x = raw / 40     \n",
    "    print(f'{x:>{width}.{precision}f}{x**2:>{width}.{precision}f}{x**3:>{width}.{precision}f}{x**4:>{width}.{precision}f}')      #> right aligns < left aligns"
   ]
  },
  {
   "cell_type": "code",
   "execution_count": 13,
   "metadata": {},
   "outputs": [
    {
     "name": "stdout",
     "output_type": "stream",
     "text": [
      "Length     Weigth        Cost\n",
      "=================================\n",
      "   5       15.708      $19,634.38\n",
      "  10       31.415      $39,268.75\n",
      "  15       47.123      $58,903.12\n",
      "  20       62.830      $78,537.50\n",
      "  25       78.538      $98,171.88\n",
      "  30       94.245     $117,806.25\n",
      "  35      109.953     $137,440.62\n",
      "  40      125.660     $157,075.00\n"
     ]
    }
   ],
   "source": [
    "#more formatting\n",
    "# formatting sub-parts\n",
    "\n",
    "print('Length     Weigth        Cost')\n",
    "print('=================================')\n",
    "for length in range(5, 41, 5):\n",
    "    weight = f'{length * 3.1415:.3f}'               #can also combine alignment with decimal places\n",
    "    cost = f'${length * 3.1415 * 1250:,.2f}'        #there is no easy way to do currency\n",
    "    print(f'{length:>4}{weight:>13}{cost:>16}')     #> right aligns < left aligns"
   ]
  },
  {
   "cell_type": "code",
   "execution_count": 14,
   "metadata": {},
   "outputs": [
    {
     "name": "stdout",
     "output_type": "stream",
     "text": [
      "ASCII   Octal   Hex   Letter   chr()   Random value\n",
      "===================================================\n",
      "  97     141     61       a      a      +20.6810\n",
      "  98     142     62       b      b      -23.6638\n",
      "  99     143     63       c      c      -16.1880\n",
      " 100     144     64       d      d      -20.2746\n",
      " 101     145     65       e      e      +16.5241\n",
      " 102     146     66       f      f      +19.9650\n",
      " 103     147     67       g      g       +7.7181\n",
      " 104     150     68       h      h       +3.3671\n",
      " 105     151     69       i      i      -11.8528\n",
      " 106     152     6A       j      j       -5.8993\n",
      " 107     153     6B       k      k       -9.1735\n",
      " 108     154     6C       l      l      -11.8068\n",
      " 109     155     6D       m      m      -21.6364\n",
      " 110     156     6E       n      n      +22.3496\n",
      " 111     157     6F       o      o       +5.3863\n",
      " 112     160     70       p      p      +11.7682\n",
      " 113     161     71       q      q      -23.1297\n",
      " 114     162     72       r      r       +5.9741\n",
      " 115     163     73       s      s      -24.0912\n",
      " 116     164     74       t      t      -17.6976\n",
      " 117     165     75       u      u      +24.9004\n",
      " 118     166     76       v      v       +0.4913\n",
      " 119     167     77       w      w       -2.7876\n",
      " 120     170     78       x      x       -3.6026\n",
      " 121     171     79       y      y      +24.3648\n",
      " 122     172     7A       z      z      -10.9445\n"
     ]
    }
   ],
   "source": [
    "# even more formatting\n",
    "# using octal and hexadecimal\n",
    "# b -> binary\n",
    "# c -> character\n",
    "# o -> octal\n",
    "# x -> haxadecimal\n",
    "# X -> haxadecimal (uppercased letter)\n",
    "# The above ONLY works with integer values\n",
    "\n",
    "import random\n",
    "\n",
    "\n",
    "print('ASCII   Octal   Hex   Letter   chr()   Random value')\n",
    "print('===================================================')\n",
    "for x in range(97, 123):\n",
    "    w = (0.5 - random.random()) * 50        # produces a random number between -25 and 25\n",
    "    u = f'{w:+.4f}'                         # the plus character forces the display of the sign of the value\n",
    "    print(f'{x:>4}', end='')                #> right aligns to the fourth column\n",
    "    print(f'{x:>8o}', end='')               #> right aligns to the eight column formatted as octal\n",
    "    print(f'{x:>7X}', end='')               #> right aligns to the seventh column formatted as uppercased Hexadecimal\n",
    "    print(f'{x:>8c}', end='')               #> right aligns to the eight column formated as a character\n",
    "    print(f'{chr(x):^13}', end='')          #^ center aligns to the thirteeth column\n",
    "    print(f'{u:>8}')                        #> right aligns to the eight column\n",
    "\n",
    "# The above way of printing is EXTREMELY inefficient, it was done this way to explain the formatting of each value\n",
    "# e.g. print(f'{x:>4}{x:>8o}{x:>7X}{x:>8c}{chr(x):^13}{u:>8}')                      "
   ]
  },
  {
   "cell_type": "markdown",
   "metadata": {},
   "source": [
    "### <a id=\"continue_break\"></a>Using the continue and break keywords\n",
    "These two keywords changes the normal operation of a loop (both while and for)\n",
    "\n",
    "#### The continue keyword\n",
    "-   When the `continue` keyword is encountered, the rest of the loop body is skipped.\n",
    "-   Processing resumes from the top of the loop body\n",
    "-   If your updater statement is after the continue keyword, then there is a possibility of a non-terminating loop\n",
    "\n",
    "#### The break keyword\n",
    "-   When the `break` keyword is encountered, the loop is immediately terminated\n",
    "-   Processing continues outside of the loop body"
   ]
  },
  {
   "cell_type": "code",
   "execution_count": 15,
   "metadata": {},
   "outputs": [
    {
     "name": "stdout",
     "output_type": "stream",
     "text": [
      "Sum of non-multiple of five less than 100: 4000\n"
     ]
    }
   ],
   "source": [
    "#using the continue keyword\n",
    "sum = 0\n",
    "for x in range(100):     #the value for the range funtion represent the end value\n",
    "    if x % 5 == 0:\n",
    "        continue\n",
    "    sum += x\n",
    "\n",
    "print(f'Sum of non-multiple of five less than 100: {sum}')"
   ]
  },
  {
   "cell_type": "code",
   "execution_count": 16,
   "metadata": {},
   "outputs": [
    {
     "ename": "ValueError",
     "evalue": "invalid literal for int() with base 10: 's'",
     "output_type": "error",
     "traceback": [
      "\u001b[31m---------------------------------------------------------------------------\u001b[39m",
      "\u001b[31mValueError\u001b[39m                                Traceback (most recent call last)",
      "\u001b[36mCell\u001b[39m\u001b[36m \u001b[39m\u001b[32mIn[16]\u001b[39m\u001b[32m, line 4\u001b[39m\n\u001b[32m      2\u001b[39m \u001b[38;5;28msum\u001b[39m = \u001b[32m0\u001b[39m\n\u001b[32m      3\u001b[39m \u001b[38;5;28;01mwhile\u001b[39;00m \u001b[38;5;28;01mTrue\u001b[39;00m:\n\u001b[32m----> \u001b[39m\u001b[32m4\u001b[39m     value = \u001b[38;5;28;43mint\u001b[39;49m\u001b[43m(\u001b[49m\u001b[38;5;28;43minput\u001b[39;49m\u001b[43m(\u001b[49m\u001b[33;43m'\u001b[39;49m\u001b[33;43mEnter a positive number to sum: \u001b[39;49m\u001b[33;43m'\u001b[39;49m\u001b[43m)\u001b[49m\u001b[43m)\u001b[49m\n\u001b[32m      5\u001b[39m     \u001b[38;5;28;01mif\u001b[39;00m value < \u001b[32m0\u001b[39m:\n\u001b[32m      6\u001b[39m         \u001b[38;5;28;01mbreak\u001b[39;00m\n",
      "\u001b[31mValueError\u001b[39m: invalid literal for int() with base 10: 's'"
     ]
    }
   ],
   "source": [
    "#while to demonstrate the break keyword\n",
    "sum = 0\n",
    "while True:\n",
    "    value = int(input('Enter a positive number to sum: '))\n",
    "    if value < 0:\n",
    "        break\n",
    "    sum += value\n",
    "\n",
    "print(f'The sum of your inputs is {sum}')"
   ]
  },
  {
   "cell_type": "markdown",
   "metadata": {},
   "source": [
    "### <a id='summary'></a>Summary"
   ]
  }
 ],
 "metadata": {
  "kernelspec": {
   "display_name": "Python 3",
   "language": "python",
   "name": "python3"
  },
  "language_info": {
   "codemirror_mode": {
    "name": "ipython",
    "version": 3
   },
   "file_extension": ".py",
   "mimetype": "text/x-python",
   "name": "python",
   "nbconvert_exporter": "python",
   "pygments_lexer": "ipython3",
   "version": "3.13.7"
  }
 },
 "nbformat": 4,
 "nbformat_minor": 2
}
