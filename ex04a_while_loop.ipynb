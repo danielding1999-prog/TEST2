{
    "cells": [
        {
            "cell_type": "markdown",
            "metadata": {},
            "source": [
                "Lab Exercise on Looping Using a do-while loop write the following programs:\n",
                "#### 1\n",
                "To display five asterisks on a single line. Each asterisk must be separated by a space. You must use a while loop to solve this program."
            ]
        },
        {
            "cell_type": "code",
            "execution_count": 2,
            "metadata": {},
            "outputs": [
                {
                    "name": "stdout",
                    "output_type": "stream",
                    "text": [
                        "* * * * * "
                    ]
                }
            ],
            "source": [
                "counter = 0\n",
                "end = 5\n",
                "while counter < end:\n",
                "    print('*', end = ' ')\n",
                "    counter += 1"
            ]
        },
        {
            "cell_type": "markdown",
            "metadata": {},
            "source": [
                "#### 2\n",
                "To display the numbers 1 â€¦ 5 on separate lines."
            ]
        },
        {
            "cell_type": "code",
            "execution_count": 3,
            "metadata": {},
            "outputs": [
                {
                    "name": "stdout",
                    "output_type": "stream",
                    "text": [
                        "1\n",
                        "2\n",
                        "3\n",
                        "4\n",
                        "5\n"
                    ]
                }
            ],
            "source": [
                "counter = 1\n",
                "end = 6\n",
                "while counter < end:\n",
                "    print(counter)\n",
                "    counter += 1"
            ]
        },
        {
            "cell_type": "markdown",
            "metadata": {},
            "source": [
                "#### 3\n",
                "To display the numbers 1 to 20 on separate lines."
            ]
        },
        {
            "cell_type": "code",
            "execution_count": 4,
            "metadata": {},
            "outputs": [
                {
                    "name": "stdout",
                    "output_type": "stream",
                    "text": [
                        "1\n",
                        "2\n",
                        "3\n",
                        "4\n",
                        "5\n",
                        "6\n",
                        "7\n",
                        "8\n",
                        "9\n",
                        "10\n",
                        "11\n",
                        "12\n",
                        "13\n",
                        "14\n",
                        "15\n",
                        "16\n",
                        "17\n",
                        "18\n",
                        "19\n",
                        "20\n"
                    ]
                }
            ],
            "source": [
                "counter = 1\n",
                "end = 21\n",
                "while counter < end:\n",
                "    print(counter)\n",
                "    counter += 1"
            ]
        },
        {
            "cell_type": "markdown",
            "metadata": {},
            "source": [
                "#### 4\n",
                "To display the numbers 1 to 20 on separate lines with an asterisk after each multiple of 5. (multiples asterisk)."
            ]
        },
        {
            "cell_type": "code",
            "execution_count": 5,
            "metadata": {},
            "outputs": [
                {
                    "name": "stdout",
                    "output_type": "stream",
                    "text": [
                        "1\n",
                        "2\n",
                        "3\n",
                        "4\n",
                        "5 *\n",
                        "6\n",
                        "7\n",
                        "8\n",
                        "9\n",
                        "10 *\n",
                        "11\n",
                        "12\n",
                        "13\n",
                        "14\n",
                        "15 *\n",
                        "16\n",
                        "17\n",
                        "18\n",
                        "19\n",
                        "20 *\n"
                    ]
                }
            ],
            "source": [
                "counter = 1\n",
                "end = 21\n",
                "while counter < end:\n",
                "    if counter % 5 == 0:\n",
                "        print(f'{counter} *')\n",
                "    else:\n",
                "        print(counter)\n",
                "    counter += 1"
            ]
        },
        {
            "cell_type": "markdown",
            "metadata": {},
            "source": [
                "#### 5\n",
                "To display the numbers 10 to 40 on separate lines with an asterisk before each multiple of 7. (asterisk multiples)."
            ]
        },
        {
            "cell_type": "code",
            "execution_count": 1,
            "metadata": {},
            "outputs": [
                {
                    "name": "stdout",
                    "output_type": "stream",
                    "text": [
                        "10\n",
                        "11\n",
                        "12\n",
                        "13\n",
                        "* 14\n",
                        "15\n",
                        "16\n",
                        "17\n",
                        "18\n",
                        "19\n",
                        "20\n",
                        "* 21\n",
                        "22\n",
                        "23\n",
                        "24\n",
                        "25\n",
                        "26\n",
                        "27\n",
                        "* 28\n",
                        "29\n",
                        "30\n",
                        "31\n",
                        "32\n",
                        "33\n",
                        "34\n",
                        "* 35\n",
                        "36\n",
                        "37\n",
                        "38\n",
                        "39\n",
                        "40\n"
                    ]
                }
            ],
            "source": [
                "counter = 10\n",
                "end = 41\n",
                "while counter < end:\n",
                "    if counter % 7 == 0:\n",
                "        print(f'* {counter}')\n",
                "    else:\n",
                "        print(counter)\n",
                "    counter += 1"
            ]
        },
        {
            "cell_type": "markdown",
            "metadata": {},
            "source": [
                "#### 6\n",
                "To display numbers 20 to 60 on separate lines skipping the multiple of 3. i.e. You must print a blank line for each multiple."
            ]
        },
        {
            "cell_type": "code",
            "execution_count": 8,
            "metadata": {},
            "outputs": [
                {
                    "name": "stdout",
                    "output_type": "stream",
                    "text": [
                        "20\n",
                        "\n",
                        "22\n",
                        "23\n",
                        "\n",
                        "25\n",
                        "26\n",
                        "\n",
                        "28\n",
                        "29\n",
                        "\n",
                        "31\n",
                        "32\n",
                        "\n",
                        "34\n",
                        "35\n",
                        "\n",
                        "37\n",
                        "38\n",
                        "\n",
                        "40\n",
                        "41\n",
                        "\n",
                        "43\n",
                        "44\n",
                        "\n",
                        "46\n",
                        "47\n",
                        "\n",
                        "49\n",
                        "50\n",
                        "\n",
                        "52\n",
                        "53\n",
                        "\n",
                        "55\n",
                        "56\n",
                        "\n",
                        "58\n",
                        "59\n",
                        "\n"
                    ]
                }
            ],
            "source": [
                "counter = 20\n",
                "end = 61\n",
                "while counter < end:\n",
                "    if counter % 3 == 0:\n",
                "        print('')\n",
                "    else:\n",
                "        print(counter)\n",
                "    counter += 1"
            ]
        },
        {
            "cell_type": "markdown",
            "metadata": {},
            "source": [
                "#### 7\n",
                "To repeatedly prompt for a number and sum it. When the sum just exceeds 100, stop the prompting and display the sum at the end. You must not display the sum while the user in typing in numbers. (You do not need a counter but you will need some way of terminating the loop)."
            ]
        },
        {
            "cell_type": "code",
            "execution_count": 12,
            "metadata": {},
            "outputs": [
                {
                    "name": "stdout",
                    "output_type": "stream",
                    "text": [
                        "110.0\n"
                    ]
                }
            ],
            "source": [
                "total = 0\n",
                "while True:\n",
                "    a = float(input('Please enter a number'))\n",
                "    if total > 100:\n",
                "        break\n",
                "    else:\n",
                "        total = total + a\n",
                "print(total)"
            ]
        },
        {
            "cell_type": "markdown",
            "metadata": {},
            "source": [
                "#### 8\n",
                "Same as the previous question but additionally displays the average of the numbers when the loop terminates. You will need a counter but not as a loop terminator."
            ]
        },
        {
            "cell_type": "code",
            "execution_count": 13,
            "metadata": {},
            "outputs": [
                {
                    "name": "stdout",
                    "output_type": "stream",
                    "text": [
                        "22.0\n"
                    ]
                }
            ],
            "source": [
                "total = 0\n",
                "counter = 0\n",
                "while True:\n",
                "    a = float(input('Please enter a number'))\n",
                "    if total > 100:\n",
                "        break\n",
                "    else:\n",
                "        total = total + a\n",
                "    counter += 1\n",
                "total = total/counter\n",
                "print(total)"
            ]
        },
        {
            "cell_type": "markdown",
            "metadata": {},
            "source": [
                "#### 9\n",
                "To display the sum of all the multiples of 3 between 1000000 and 2000000. \n",
                "(Answer = 499, 999, 500, 000). If you suspect that a value might be larger than 2 billion (as is the case here), then the type of sum should be a long and not an int. \n",
                "[Hint: like the C (currency) and the F (decimal) format specifiers, there is also a N specifier]"
            ]
        },
        {
            "cell_type": "code",
            "execution_count": 14,
            "metadata": {},
            "outputs": [
                {
                    "name": "stdout",
                    "output_type": "stream",
                    "text": [
                        "499999500000\n"
                    ]
                }
            ],
            "source": [
                "counter = 1000000\n",
                "end = 2000000\n",
                "total = 0\n",
                "while counter < end:\n",
                "    if counter % 3 == 0:\n",
                "        total = total + counter\n",
                "    counter += 1\n",
                "print(total)"
            ]
        },
        {
            "cell_type": "markdown",
            "metadata": {},
            "source": [
                "#### 10\n",
                "A conversion table of Celsius to Fahrenheit temperature. The table must start with 100 Celsius and end at 0 Celsius with decrements of 10. (Fahrenheit = 9/5 * Celsius + 32). Your table must have a suitable header and the values in the table must be right-align like the output of question 11."
            ]
        },
        {
            "cell_type": "code",
            "execution_count": 20,
            "metadata": {},
            "outputs": [
                {
                    "name": "stdout",
                    "output_type": "stream",
                    "text": [
                        "Celsius           Fahrenheit\n",
                        "============================\n",
                        " 100                212.0\n",
                        "  90                194.0\n",
                        "  80                176.0\n",
                        "  70                158.0\n",
                        "  60                140.0\n",
                        "  50                122.0\n",
                        "  40                104.0\n",
                        "  30                 86.0\n",
                        "  20                 68.0\n",
                        "  10                 50.0\n",
                        "   0                 32.0\n"
                    ]
                }
            ],
            "source": [
                "a = 'Celsius           Fahrenheit'\n",
                "print(a)\n",
                "print('=' * len(a))\n",
                "counter = 100\n",
                "end = -10\n",
                "while counter > end:\n",
                "    print(f'{counter:>4} {counter * (9/5) +32:>20}')\n",
                "    counter -= 10"
            ]
        },
        {
            "cell_type": "markdown",
            "metadata": {},
            "source": [
                "#### 11\n",
                "A machine purchased for $28,000 depreciates at a rate of $4,000 a year for seven years. Write and run a C# program that computes and displays a depreciation table for seven years. The table should have the form: \n",
                "                                  \n",
                "\n",
                "\n",
                "|YEAR   |   DEPRECIATION  |      END-OF-YEAR <br/> VALUE       |    ACCUMULATED <br/> DEPRECIATION  |\n",
                "|------:|----------------:|-----------------:|---------------:| \n",
                "| 1     |    $4,000.00    |    $24,000.00    |    $4,000.00  | \n",
                "| 2     |    $4,000.00    |    $20,000.00    |    $8,000.00  |\n",
                "| 3     |    $4,000.00    |    $16,000.00    |   $12,000.00  |\n",
                "| 4     |    $4,000.00    |    $12,000.00    |   $16,000.00  |\n",
                "| 5     |    $4,000.00    |     $8,000.00    |   $20,000.00  |\n",
                "| 6     |    $4,000.00    |     $4,000.00    |   $24,000.00  |\n",
                "| 7     |    $4,000.00    |         $0.00    |   $28,000.00  |"
            ]
        },
        {
            "cell_type": "code",
            "execution_count": 7,
            "metadata": {},
            "outputs": [
                {
                    "name": "stdout",
                    "output_type": "stream",
                    "text": [
                        "Year   Depreciation    End-of-year-value      Accumulated Depreciation\n",
                        " 1        $4000.00         $24000.00                   $ 4000.00\n",
                        " 2        $4000.00         $20000.00                   $ 8000.00\n",
                        " 3        $4000.00         $16000.00                   $12000.00\n",
                        " 4        $4000.00         $12000.00                   $16000.00\n",
                        " 5        $4000.00         $ 8000.00                   $20000.00\n",
                        " 6        $4000.00         $ 4000.00                   $24000.00\n",
                        " 7        $4000.00         $    0.00                   $28000.00\n"
                    ]
                }
            ],
            "source": [
                "a = 'Year   Depreciation    End-of-year-value      Accumulated Depreciation'\n",
                "print(a)\n",
                "counter = 1\n",
                "end = 8\n",
                "de = 4000.00\n",
                "value = 28000.00\n",
                "total_de = 0\n",
                "dollar = '$'\n",
                "while counter < end:\n",
                "    value = value - de\n",
                "    total_de = total_de + de\n",
                "    print(f'{counter:>2}{dollar:>9}{de:>1.2f}{dollar:>10}{value:>8.2f}{dollar:>20}{total_de:>8.2f}')\n",
                "    counter += 1"
            ]
        },
        {
            "cell_type": "code",
            "execution_count": 18,
            "metadata": {},
            "outputs": [
                {
                    "name": "stdout",
                    "output_type": "stream",
                    "text": [
                        "Year   Depreciation    End-of-year-value      Accumulated Depreciation\n",
                        " 1        $4000.0        $24,000.00                $4000.0\n",
                        " 2        $4000.0        $20,000.00                $8000.0\n",
                        " 3        $4000.0        $16,000.00               $12000.0\n",
                        " 4        $4000.0        $12,000.00               $16000.0\n",
                        " 5        $4000.0         $8,000.00               $20000.0\n",
                        " 6        $4000.0         $4,000.00               $24000.0\n",
                        " 7        $4000.0             $0.00               $28000.0\n"
                    ]
                }
            ],
            "source": [
                "a = 'Year   Depreciation    End-of-year-value      Accumulated Depreciation'\n",
                "print(a)\n",
                "counter = 1\n",
                "end = 8\n",
                "de = 4000.00\n",
                "value = 28000.00\n",
                "total_de = 0\n",
                "second = f'${de}'\n",
                "while counter < end:\n",
                "    value = value - de\n",
                "    total_de = total_de + de\n",
                "    third = f'${value:,.2f}'\n",
                "    fourth = f'${total_de}'\n",
                "    print(f'{counter:>2}{second:>15}{third:>18}{fourth:>23}')\n",
                "    counter += 1"
            ]
        },
        {
            "cell_type": "markdown",
            "metadata": {},
            "source": [
                "#### 12\t\n",
                "Write a program that continuously requests a grade. \n",
                "If the grade is less than 0 or greater than 100, your program should print an appropriate message informing the user that an invalid grade has been entered, \n",
                "else the grade should be added to a total. \n",
                "If the grade is 999, the program should exit the loop and display the sum, number of valid grades and the average of the valid grades entered. (You must NOT display an invalid message)\n",
                "P.S. The value 999 is use to terminate the cycle and should not be used in any of the calculation. You must not display an \"Invalid grade\""
            ]
        },
        {
            "cell_type": "code",
            "execution_count": null,
            "metadata": {},
            "outputs": [
                {
                    "name": "stdout",
                    "output_type": "stream",
                    "text": [
                        "Invalid grade.\n",
                        "Invalid grade.\n",
                        "Invalid grade.\n",
                        "1100\n"
                    ]
                }
            ],
            "source": [
                "total = 0\n",
                "while True:\n",
                "    a = int(input('Please enter a grade.'))\n",
                "    if a > 100 or a < 0:\n",
                "        print('Invalid grade.')\n",
                "    elif total > 1000:\n",
                "        break\n",
                "    else:\n",
                "        total = total + a\n",
                "print(total)\n"
            ]
        },
        {
            "cell_type": "markdown",
            "metadata": {},
            "source": [
                "#### 16\t\n",
                "Print the decimal, octal, and hexadecimal values of all characters between the start and stop characters entered by a user. For example, if the user enters an a and a z, the program should print all the characters between a and z and their respective numerical values. Make sure that the second character entered by the user occurs later in the alphabet than the first character. If it does not, write a loop that repeatedly asks the user for a valid second character until one is entered.\n",
                "Your output should be formatted as shown below\n",
                "| Letter | Decimal | Octal | Hex |\n",
                "|--------|---------|-------|-----|\n",
                "| a      | 97\t   | 141   | 61  |\n",
                "| b      | 98\t   | 142   | 62  |\n",
                "| c      | 99\t   | 143   | 63  |\n",
                "| d      | 100     | 144   | 64  |\n",
                "| e      | 101     | 145   | 65  |\n",
                "\n",
                "-   to obtain an int from a letter use the ord() function\n",
                "-   to obtain a letter from an int use the chr() function\n",
                "-   to obtain an octal from an int use :o\n",
                "-   to obtain a hexadecimal from an int use :x"
            ]
        },
        {
            "cell_type": "code",
            "execution_count": 90,
            "metadata": {},
            "outputs": [
                {
                    "name": "stdout",
                    "output_type": "stream",
                    "text": [
                        "Letter    Decimal     Octal      Hex\n",
                        "====================================\n",
                        "   a        97         141        61\n",
                        "   b        98         142        62\n",
                        "   c        99         143        63\n",
                        "   d       100         144        64\n",
                        "   e       101         145        65\n",
                        "   f       102         146        66\n",
                        "   g       103         147        67\n",
                        "   h       104         150        68\n",
                        "   i       105         151        69\n",
                        "   j       106         152        6a\n",
                        "   k       107         153        6b\n",
                        "   l       108         154        6c\n",
                        "   m       109         155        6d\n",
                        "   n       110         156        6e\n",
                        "   o       111         157        6f\n",
                        "   p       112         160        70\n",
                        "   q       113         161        71\n",
                        "   r       114         162        72\n",
                        "   s       115         163        73\n",
                        "   t       116         164        74\n",
                        "   u       117         165        75\n",
                        "   v       118         166        76\n"
                    ]
                }
            ],
            "source": [
                "tital = 'Letter    Decimal     Octal      Hex'\n",
                "print(tital)\n",
                "print('=' * len(tital))\n",
                "a = input('Please enter the first character.')\n",
                "while True:\n",
                "    b = input('Please enter the second character.')\n",
                "    if ord(a) > ord(b):\n",
                "        print('Please make sure the second character is larger than the first one.')\n",
                "    else:\n",
                "        break\n",
                "int_a = ord(a)\n",
                "int_b = ord(b)\n",
                "while int_a < ord(b)+1:\n",
                "    print(f'{chr(int_a):>4}{int_a:>10}{oct(int_a)[2:]:>12}{hex(int_a)[-2:]:>10}')\n",
                "    int_a += 1\n"
            ]
        }
    ],
    "metadata": {
        "kernelspec": {
            "display_name": "Python 3",
            "language": "python",
            "name": "python3"
        },
        "language_info": {
            "codemirror_mode": {
                "name": "ipython",
                "version": 3
            },
            "file_extension": ".py",
            "mimetype": "text/x-python",
            "name": "python",
            "nbconvert_exporter": "python",
            "pygments_lexer": "ipython3",
            "version": "3.13.7"
        }
    },
    "nbformat": 4,
    "nbformat_minor": 2
}
